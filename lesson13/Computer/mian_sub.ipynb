{
 "cells": [
  {
   "cell_type": "code",
   "execution_count": 16,
   "metadata": {},
   "outputs": [
    {
     "name": "stdout",
     "output_type": "stream",
     "text": [
      "目錄已存在\n"
     ]
    }
   ],
   "source": [
    "import os\n",
    "os.path.abspath(__name__)\n",
    "os.getcwd()\n",
    "data_dir = os.path.join(root_dir,'data')\n",
    "data_dir\n",
    "if not os.path.isdir(data_dir):\n",
    "    os.mkdir('data')\n",
    "else:\n",
    "    print('目錄已存在')"
   ]
  },
  {
   "cell_type": "code",
   "execution_count": 20,
   "metadata": {},
   "outputs": [
    {
     "name": "stdout",
     "output_type": "stream",
     "text": [
      "2024-October-12 12:03:40\n"
     ]
    }
   ],
   "source": [
    "from datetime import datetime\n",
    "\n",
    "time_now = datetime.now().strftime(\"%Y-%B-%d %H:%M:%S\")\n",
    "print(time_now)"
   ]
  }
 ],
 "metadata": {
  "kernelspec": {
   "display_name": "venv1",
   "language": "python",
   "name": "python3"
  },
  "language_info": {
   "codemirror_mode": {
    "name": "ipython",
    "version": 3
   },
   "file_extension": ".py",
   "mimetype": "text/x-python",
   "name": "python",
   "nbconvert_exporter": "python",
   "pygments_lexer": "ipython3",
   "version": "3.11.9"
  }
 },
 "nbformat": 4,
 "nbformat_minor": 2
}
