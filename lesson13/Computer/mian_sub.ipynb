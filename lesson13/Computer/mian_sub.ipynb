{
 "cells": [
  {
   "cell_type": "code",
   "execution_count": 61,
   "metadata": {},
   "outputs": [
    {
     "name": "stdout",
     "output_type": "stream",
     "text": [
      "目錄已存在\n"
     ]
    }
   ],
   "source": [
    "import os\n",
    "os.path.abspath(__name__)\n",
    "os.getcwd()\n",
    "data_dir = os.path.join(root_dir,'data')\n",
    "data_dir\n",
    "if not os.path.isdir(data_dir):\n",
    "    os.mkdir('data')\n",
    "else:\n",
    "    print('目錄已存在')"
   ]
  },
  {
   "cell_type": "code",
   "execution_count": 62,
   "metadata": {},
   "outputs": [
    {
     "name": "stdout",
     "output_type": "stream",
     "text": [
      "2024-10-12.log\n"
     ]
    },
    {
     "data": {
      "text/plain": [
       "'/Users/marklo/Documents/GitHub/class_Pico_W/lesson13/Computer/data/2024-10-12.log'"
      ]
     },
     "execution_count": 62,
     "metadata": {},
     "output_type": "execute_result"
    }
   ],
   "source": [
    "from datetime import datetime\n",
    "\n",
    "filename = datetime.now().strftime(\"%Y-%m-%d\")+\".log\" #用時間來取檔案名稱\n",
    "print(filename)\n",
    "\n",
    "#get_file_abspath\n",
    "full_pathname = os.path.join(data_dir,filename)\n",
    "full_pathname\n",
    "\n"
   ]
  },
  {
   "cell_type": "code",
   "execution_count": 63,
   "metadata": {},
   "outputs": [
    {
     "name": "stdout",
     "output_type": "stream",
     "text": [
      "/Users/marklo/Documents/GitHub/class_Pico_W/lesson13/Computer/data/2024-10-12.log\n",
      "沒有這個檔案，建立檔案\n"
     ]
    }
   ],
   "source": [
    "if not os.path.exists(full_pathname):\n",
    "    print(full_pathname)\n",
    "    #如果沒有這個檔案，就建立檔案\n",
    "    print(\"沒有這個檔案，建立檔案\")\n",
    "    with open(full_pathname,mode='w', encoding='utf-8',newline='')as file:\n",
    "        file.write(\"時間,設備,值\\n\")"
   ]
  },
  {
   "cell_type": "code",
   "execution_count": 64,
   "metadata": {},
   "outputs": [],
   "source": [
    "import csv\n",
    "\n",
    "time_now = datetime.now().strftime(\"%Y-%m-%d %H:%M:%S\") #取得需要的時間格式\n",
    "log_data = [time_now,\"SA-54\\LED_LEVEL\",9999] #產生紀錄內容\n",
    "with open(full_pathname,mode='a',newline='', encoding='utf-8') as file:\n",
    "    writer = csv.writer(file)\n",
    "    writer.writerow(log_data)"
   ]
  }
 ],
 "metadata": {
  "kernelspec": {
   "display_name": "venv1",
   "language": "python",
   "name": "python3"
  },
  "language_info": {
   "codemirror_mode": {
    "name": "ipython",
    "version": 3
   },
   "file_extension": ".py",
   "mimetype": "text/x-python",
   "name": "python",
   "nbconvert_exporter": "python",
   "pygments_lexer": "ipython3",
   "version": "3.11.9"
  }
 },
 "nbformat": 4,
 "nbformat_minor": 2
}
