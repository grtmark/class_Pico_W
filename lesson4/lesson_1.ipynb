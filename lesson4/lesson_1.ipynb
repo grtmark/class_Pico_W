{
 "cells": [
  {
   "cell_type": "code",
   "execution_count": 5,
   "metadata": {},
   "outputs": [
    {
     "name": "stdout",
     "output_type": "stream",
     "text": [
      "可以考駕照\n",
      "程式結束\n"
     ]
    }
   ],
   "source": [
    "#if\n",
    "\n",
    "age = 27\n",
    "if age < 18:\n",
    "    print(\"不可以考駕照\")\n",
    "else:\n",
    "    print(\"可以考駕照\")\n",
    "print(\"程式結束\")"
   ]
  },
  {
   "cell_type": "code",
   "execution_count": 20,
   "metadata": {},
   "outputs": [
    {
     "name": "stdout",
     "output_type": "stream",
     "text": [
      "錯誤訊息:輸入分數不可以超過 300 分\n",
      "程式結束\n"
     ]
    }
   ],
   "source": [
    "#學生總分為 300 分\n",
    "#有些學生可以加 5%\n",
    "#分數上限是 300 分\n",
    "#手動 raise Exception\n",
    "\n",
    "try:\n",
    "    score = int(input(\"請輸入學生分數(最高300分):\"))\n",
    "    if score > 300:\n",
    "        raise Exception(\"輸入分數不可以超過 300 分\")\n",
    "except ValueError:\n",
    "    print(\"輸入格式錯誤\")\n",
    "except Exception as e:\n",
    "    print(f\"錯誤訊息:{e}\")\n",
    "else:\n",
    "\n",
    "    is_add = input(\"學生是否符合加分條件?(y/n)\")\n",
    "\n",
    "    if is_add == 'y':\n",
    "        score *= 1.05\n",
    "        if score > 300:\n",
    "            score=300\n",
    "\n",
    "    print(f\"學生分數是：{score}\")\n",
    "print(\"程式結束\")"
   ]
  },
  {
   "cell_type": "code",
   "execution_count": 25,
   "metadata": {},
   "outputs": [
    {
     "name": "stdout",
     "output_type": "stream",
     "text": [
      "X<70\n"
     ]
    }
   ],
   "source": [
    "value = 35\n",
    "\n",
    "if value >= 90:\n",
    "    print(\"大於 90\")\n",
    "elif value >= 80:\n",
    "    print(\"80<=X<=90\")\n",
    "elif value >= 70:\n",
    "    print(\"70<=X<=80\")\n",
    "else:\n",
    "    print(\"X<70\")"
   ]
  },
  {
   "cell_type": "code",
   "execution_count": null,
   "metadata": {},
   "outputs": [],
   "source": []
  }
 ],
 "metadata": {
  "kernelspec": {
   "display_name": "venv1",
   "language": "python",
   "name": "python3"
  },
  "language_info": {
   "codemirror_mode": {
    "name": "ipython",
    "version": 3
   },
   "file_extension": ".py",
   "mimetype": "text/x-python",
   "name": "python",
   "nbconvert_exporter": "python",
   "pygments_lexer": "ipython3",
   "version": "3.11.9"
  }
 },
 "nbformat": 4,
 "nbformat_minor": 2
}
